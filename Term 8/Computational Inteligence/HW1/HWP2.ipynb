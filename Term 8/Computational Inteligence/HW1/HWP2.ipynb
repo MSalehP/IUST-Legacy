{
  "cells": [
    {
      "cell_type": "markdown",
      "metadata": {
        "id": "g6-LK5a-DPL_"
      },
      "source": [
        "# Logistic Regression with SGD Classifier - Homework\n",
        "\n",
        "In this homework, we will implement Logistic Regression using the Stochastic Gradient Descent (SGD) optimizer. We will first implement the model from scratch and then use Scikit-learn's built-in tools to achieve the same goal. Finally, we will compare the results from both approaches.\n",
        "\n",
        "## Dataset: heart.csv\n",
        "\n",
        "The dataset used in this homework contains **13 features** and a **target variable**. The features are as follows:\n",
        "\n",
        "- Age\n",
        "- Sex\n",
        "- Chest pain type\n",
        "- Resting blood pressure\n",
        "- Serum cholesterol\n",
        "- Fasting blood sugar\n",
        "- Resting electrocardiographic results\n",
        "- Thalach (maximum heart rate achieved)\n",
        "- Exercise induced angina\n",
        "- Oldpeak\n",
        "- Slope\n",
        "- Vessels colored by fluoroscopy\n",
        "- Thalassemia\n",
        "\n",
        "### Target Variable:\n",
        "- **Target**: 0 (No Heart Disease), 1 (Heart Disease)\n",
        "\n",
        "We will extract these values from the dataset and use them to train and test our logistic regression models.\n"
      ]
    },
    {
      "cell_type": "markdown",
      "metadata": {
        "id": "tyXL1X_SEZ8R"
      },
      "source": [
        "## Importing Necessary Libraries"
      ]
    },
    {
      "cell_type": "code",
      "execution_count": 90,
      "metadata": {
        "id": "hkyaa3zLDKPo"
      },
      "outputs": [],
      "source": [
        "import numpy as np\n",
        "import pandas as pd\n",
        "import matplotlib.pyplot as plt\n",
        "import seaborn as sns\n",
        "from sklearn.linear_model import SGDClassifier\n",
        "from sklearn.model_selection import train_test_split\n",
        "from sklearn.preprocessing import StandardScaler, LabelEncoder\n",
        "from sklearn.base import BaseEstimator, ClassifierMixin\n",
        "from sklearn.metrics import accuracy_score, confusion_matrix, log_loss\n",
        "\n",
        "import warnings\n",
        "warnings.filterwarnings('ignore')"
      ]
    },
    {
      "cell_type": "markdown",
      "metadata": {
        "id": "qT_kccYTFX9y"
      },
      "source": [
        "## Load the Dataset\n",
        "\n",
        "Load the dataset with Pandas and display some rows.\n"
      ]
    },
    {
      "cell_type": "code",
      "execution_count": 91,
      "metadata": {
        "id": "x3WhXvAmDlDZ"
      },
      "outputs": [
        {
          "data": {
            "text/html": [
              "<div>\n",
              "<style scoped>\n",
              "    .dataframe tbody tr th:only-of-type {\n",
              "        vertical-align: middle;\n",
              "    }\n",
              "\n",
              "    .dataframe tbody tr th {\n",
              "        vertical-align: top;\n",
              "    }\n",
              "\n",
              "    .dataframe thead th {\n",
              "        text-align: right;\n",
              "    }\n",
              "</style>\n",
              "<table border=\"1\" class=\"dataframe\">\n",
              "  <thead>\n",
              "    <tr style=\"text-align: right;\">\n",
              "      <th></th>\n",
              "      <th>age</th>\n",
              "      <th>sex</th>\n",
              "      <th>chest_pain_type</th>\n",
              "      <th>resting_blood_pressure</th>\n",
              "      <th>cholestoral</th>\n",
              "      <th>fasting_blood_sugar</th>\n",
              "      <th>rest_ecg</th>\n",
              "      <th>Max_heart_rate</th>\n",
              "      <th>exercise_induced_angina</th>\n",
              "      <th>oldpeak</th>\n",
              "      <th>slope</th>\n",
              "      <th>vessels_colored_by_flourosopy</th>\n",
              "      <th>thalassemia</th>\n",
              "      <th>target</th>\n",
              "    </tr>\n",
              "  </thead>\n",
              "  <tbody>\n",
              "    <tr>\n",
              "      <th>0</th>\n",
              "      <td>52</td>\n",
              "      <td>Male</td>\n",
              "      <td>Typical angina</td>\n",
              "      <td>125</td>\n",
              "      <td>212</td>\n",
              "      <td>Lower than 120 mg/ml</td>\n",
              "      <td>ST-T wave abnormality</td>\n",
              "      <td>168</td>\n",
              "      <td>No</td>\n",
              "      <td>1.0</td>\n",
              "      <td>Downsloping</td>\n",
              "      <td>Two</td>\n",
              "      <td>Reversable Defect</td>\n",
              "      <td>0</td>\n",
              "    </tr>\n",
              "    <tr>\n",
              "      <th>1</th>\n",
              "      <td>53</td>\n",
              "      <td>Male</td>\n",
              "      <td>Typical angina</td>\n",
              "      <td>140</td>\n",
              "      <td>203</td>\n",
              "      <td>Greater than 120 mg/ml</td>\n",
              "      <td>Normal</td>\n",
              "      <td>155</td>\n",
              "      <td>Yes</td>\n",
              "      <td>3.1</td>\n",
              "      <td>Upsloping</td>\n",
              "      <td>Zero</td>\n",
              "      <td>Reversable Defect</td>\n",
              "      <td>0</td>\n",
              "    </tr>\n",
              "    <tr>\n",
              "      <th>2</th>\n",
              "      <td>70</td>\n",
              "      <td>Male</td>\n",
              "      <td>Typical angina</td>\n",
              "      <td>145</td>\n",
              "      <td>174</td>\n",
              "      <td>Lower than 120 mg/ml</td>\n",
              "      <td>ST-T wave abnormality</td>\n",
              "      <td>125</td>\n",
              "      <td>Yes</td>\n",
              "      <td>2.6</td>\n",
              "      <td>Upsloping</td>\n",
              "      <td>Zero</td>\n",
              "      <td>Reversable Defect</td>\n",
              "      <td>0</td>\n",
              "    </tr>\n",
              "    <tr>\n",
              "      <th>3</th>\n",
              "      <td>61</td>\n",
              "      <td>Male</td>\n",
              "      <td>Typical angina</td>\n",
              "      <td>148</td>\n",
              "      <td>203</td>\n",
              "      <td>Lower than 120 mg/ml</td>\n",
              "      <td>ST-T wave abnormality</td>\n",
              "      <td>161</td>\n",
              "      <td>No</td>\n",
              "      <td>0.0</td>\n",
              "      <td>Downsloping</td>\n",
              "      <td>One</td>\n",
              "      <td>Reversable Defect</td>\n",
              "      <td>0</td>\n",
              "    </tr>\n",
              "    <tr>\n",
              "      <th>4</th>\n",
              "      <td>62</td>\n",
              "      <td>Female</td>\n",
              "      <td>Typical angina</td>\n",
              "      <td>138</td>\n",
              "      <td>294</td>\n",
              "      <td>Greater than 120 mg/ml</td>\n",
              "      <td>ST-T wave abnormality</td>\n",
              "      <td>106</td>\n",
              "      <td>No</td>\n",
              "      <td>1.9</td>\n",
              "      <td>Flat</td>\n",
              "      <td>Three</td>\n",
              "      <td>Fixed Defect</td>\n",
              "      <td>0</td>\n",
              "    </tr>\n",
              "  </tbody>\n",
              "</table>\n",
              "</div>"
            ],
            "text/plain": [
              "   age     sex chest_pain_type  resting_blood_pressure  cholestoral  \\\n",
              "0   52    Male  Typical angina                     125          212   \n",
              "1   53    Male  Typical angina                     140          203   \n",
              "2   70    Male  Typical angina                     145          174   \n",
              "3   61    Male  Typical angina                     148          203   \n",
              "4   62  Female  Typical angina                     138          294   \n",
              "\n",
              "      fasting_blood_sugar               rest_ecg  Max_heart_rate  \\\n",
              "0    Lower than 120 mg/ml  ST-T wave abnormality             168   \n",
              "1  Greater than 120 mg/ml                 Normal             155   \n",
              "2    Lower than 120 mg/ml  ST-T wave abnormality             125   \n",
              "3    Lower than 120 mg/ml  ST-T wave abnormality             161   \n",
              "4  Greater than 120 mg/ml  ST-T wave abnormality             106   \n",
              "\n",
              "  exercise_induced_angina  oldpeak        slope vessels_colored_by_flourosopy  \\\n",
              "0                      No      1.0  Downsloping                           Two   \n",
              "1                     Yes      3.1    Upsloping                          Zero   \n",
              "2                     Yes      2.6    Upsloping                          Zero   \n",
              "3                      No      0.0  Downsloping                           One   \n",
              "4                      No      1.9         Flat                         Three   \n",
              "\n",
              "         thalassemia  target  \n",
              "0  Reversable Defect       0  \n",
              "1  Reversable Defect       0  \n",
              "2  Reversable Defect       0  \n",
              "3  Reversable Defect       0  \n",
              "4       Fixed Defect       0  "
            ]
          },
          "execution_count": 91,
          "metadata": {},
          "output_type": "execute_result"
        }
      ],
      "source": [
        "# your code here\n",
        "\n",
        "df = pd.read_csv('./heart.csv')\n",
        "df.head()"
      ]
    },
    {
      "cell_type": "code",
      "execution_count": 92,
      "metadata": {
        "id": "HlAswE32FmAL"
      },
      "outputs": [
        {
          "data": {
            "text/plain": [
              "(1025, 14)"
            ]
          },
          "execution_count": 92,
          "metadata": {},
          "output_type": "execute_result"
        }
      ],
      "source": [
        "df.shape"
      ]
    },
    {
      "cell_type": "code",
      "execution_count": 93,
      "metadata": {
        "id": "cxkcghqBFntb"
      },
      "outputs": [
        {
          "data": {
            "text/plain": [
              "age                                int64\n",
              "sex                               object\n",
              "chest_pain_type                   object\n",
              "resting_blood_pressure             int64\n",
              "cholestoral                        int64\n",
              "fasting_blood_sugar               object\n",
              "rest_ecg                          object\n",
              "Max_heart_rate                     int64\n",
              "exercise_induced_angina           object\n",
              "oldpeak                          float64\n",
              "slope                             object\n",
              "vessels_colored_by_flourosopy     object\n",
              "thalassemia                       object\n",
              "target                             int64\n",
              "dtype: object"
            ]
          },
          "execution_count": 93,
          "metadata": {},
          "output_type": "execute_result"
        }
      ],
      "source": [
        "df.dtypes"
      ]
    },
    {
      "cell_type": "markdown",
      "metadata": {
        "id": "hskrTuidHek1"
      },
      "source": [
        "# Displaying Count of Unique Values for Non-Numerical Columns #\n",
        "\n",
        "As you can see, some columns contain non-numerical values. In this step, we will write code for each of these columns to display the unique values and the count of each value.\n"
      ]
    },
    {
      "cell_type": "code",
      "execution_count": 94,
      "metadata": {
        "id": "6fDYK2DmHpyH"
      },
      "outputs": [
        {
          "name": "stdout",
          "output_type": "stream",
          "text": [
            "\n",
            "Column: sex\n",
            "sex\n",
            "Male      713\n",
            "Female    312\n",
            "Name: count, dtype: int64\n",
            "\n",
            "Column: chest_pain_type\n",
            "chest_pain_type\n",
            "Typical angina      497\n",
            "Non-anginal pain    284\n",
            "Atypical angina     167\n",
            "Asymptomatic         77\n",
            "Name: count, dtype: int64\n",
            "\n",
            "Column: fasting_blood_sugar\n",
            "fasting_blood_sugar\n",
            "Lower than 120 mg/ml      872\n",
            "Greater than 120 mg/ml    153\n",
            "Name: count, dtype: int64\n",
            "\n",
            "Column: rest_ecg\n",
            "rest_ecg\n",
            "ST-T wave abnormality           513\n",
            "Normal                          497\n",
            "Left ventricular hypertrophy     15\n",
            "Name: count, dtype: int64\n",
            "\n",
            "Column: exercise_induced_angina\n",
            "exercise_induced_angina\n",
            "No     680\n",
            "Yes    345\n",
            "Name: count, dtype: int64\n",
            "\n",
            "Column: slope\n",
            "slope\n",
            "Flat           482\n",
            "Downsloping    469\n",
            "Upsloping       74\n",
            "Name: count, dtype: int64\n",
            "\n",
            "Column: vessels_colored_by_flourosopy\n",
            "vessels_colored_by_flourosopy\n",
            "Zero     578\n",
            "One      226\n",
            "Two      134\n",
            "Three     69\n",
            "Four      18\n",
            "Name: count, dtype: int64\n",
            "\n",
            "Column: thalassemia\n",
            "thalassemia\n",
            "Fixed Defect         544\n",
            "Reversable Defect    410\n",
            "Normal                64\n",
            "No                     7\n",
            "Name: count, dtype: int64\n"
          ]
        }
      ],
      "source": [
        "categorical_cols = df.select_dtypes(include=['object']).columns\n",
        "for col in categorical_cols:\n",
        "    print(f\"\\nColumn: {col}\")\n",
        "    print(df[col].value_counts())"
      ]
    },
    {
      "cell_type": "markdown",
      "metadata": {
        "id": "J38GXn5VIXzl"
      },
      "source": [
        "Displaying Count of Unique Values for Target Column"
      ]
    },
    {
      "cell_type": "code",
      "execution_count": 95,
      "metadata": {
        "id": "MRWupJdVIYS3"
      },
      "outputs": [
        {
          "name": "stdout",
          "output_type": "stream",
          "text": [
            "\n",
            "Target column distribution:\n",
            "target\n",
            "1    526\n",
            "0    499\n",
            "Name: count, dtype: int64\n"
          ]
        }
      ],
      "source": [
        "print(\"\\nTarget column distribution:\")\n",
        "print(df['target'].value_counts())"
      ]
    },
    {
      "cell_type": "markdown",
      "metadata": {
        "id": "0bg7v_JaJEc0"
      },
      "source": [
        " Convert Categorical Columns to Numerical Values\n",
        "\n"
      ]
    },
    {
      "cell_type": "code",
      "execution_count": 96,
      "metadata": {
        "id": "T3cPdGFPIm1Q"
      },
      "outputs": [
        {
          "data": {
            "text/plain": [
              "age                                int64\n",
              "sex                                int64\n",
              "chest_pain_type                    int64\n",
              "resting_blood_pressure             int64\n",
              "cholestoral                        int64\n",
              "fasting_blood_sugar                int64\n",
              "rest_ecg                           int64\n",
              "Max_heart_rate                     int64\n",
              "exercise_induced_angina            int64\n",
              "oldpeak                          float64\n",
              "slope                              int64\n",
              "vessels_colored_by_flourosopy      int64\n",
              "thalassemia                        int64\n",
              "target                             int64\n",
              "dtype: object"
            ]
          },
          "execution_count": 96,
          "metadata": {},
          "output_type": "execute_result"
        }
      ],
      "source": [
        "categorical_columns = df.select_dtypes(include=['object']).columns\n",
        "\n",
        "for col in categorical_columns:\n",
        "    le = LabelEncoder()\n",
        "    df[col] = le.fit_transform(df[col])\n",
        "\n",
        "df.dtypes"
      ]
    },
    {
      "cell_type": "markdown",
      "metadata": {
        "id": "wv-m0JM7KXo5"
      },
      "source": [
        "### Creating Train and Test Data"
      ]
    },
    {
      "cell_type": "code",
      "execution_count": 97,
      "metadata": {
        "id": "3uGg-pUaJffA"
      },
      "outputs": [
        {
          "data": {
            "text/plain": [
              "((1025, 13), (1025,))"
            ]
          },
          "execution_count": 97,
          "metadata": {},
          "output_type": "execute_result"
        }
      ],
      "source": [
        "X = df.drop(columns='target')\n",
        "y = df['target']\n",
        "X.shape, y.shape"
      ]
    },
    {
      "cell_type": "code",
      "execution_count": 98,
      "metadata": {
        "id": "Ne7jAATNfX43"
      },
      "outputs": [
        {
          "data": {
            "text/plain": [
              "((820,), (205,))"
            ]
          },
          "execution_count": 98,
          "metadata": {},
          "output_type": "execute_result"
        }
      ],
      "source": [
        "# Split train and test with 80-20 proportion\n",
        "X_train, X_test, y_train, y_test = train_test_split(X, y, test_size=0.2, random_state=42)\n",
        "y_train.shape, y_test.shape"
      ]
    },
    {
      "cell_type": "code",
      "execution_count": 99,
      "metadata": {
        "id": "IvZQ-2SJKhnq"
      },
      "outputs": [
        {
          "data": {
            "text/plain": [
              "((820, 1), (205, 1))"
            ]
          },
          "execution_count": 99,
          "metadata": {},
          "output_type": "execute_result"
        }
      ],
      "source": [
        "# Reshaping Target Variables for Matrix Computations\n",
        "y_train = y_train.values.reshape(-1, 1)\n",
        "y_test = y_test.values.reshape(-1, 1)\n",
        "\n",
        "y_train.shape, y_test.shape"
      ]
    },
    {
      "cell_type": "markdown",
      "metadata": {
        "id": "uT2ebZSHLrl1"
      },
      "source": [
        "## Feature Scaling\n",
        "\n",
        "In this step, we will apply **Standard Scaling** to normalize the features of the training and test sets."
      ]
    },
    {
      "cell_type": "code",
      "execution_count": 100,
      "metadata": {
        "id": "iYYJmX_jLSDJ"
      },
      "outputs": [],
      "source": [
        "scaler = StandardScaler()\n",
        "X_train = scaler.fit_transform(X_train)\n",
        "X_test = scaler.transform(X_test)"
      ]
    },
    {
      "cell_type": "markdown",
      "metadata": {
        "id": "_qz59bynR_RR"
      },
      "source": [
        "## Custom Logistic Regression Class\n",
        "\n",
        "In this section, we implement a custom Logistic Regression classifier from scratch using **Stochastic Gradient Descent (SGD)**. The class `MyLogisticRegBinary` inherits from `BaseEstimator` and `ClassifierMixin` to integrate with Scikit-learn.\n",
        "The model is designed to train efficiently with the SGD method and can be used for binary classification tasks."
      ]
    },
    {
      "cell_type": "code",
      "execution_count": null,
      "metadata": {
        "id": "uF7WycEgL4tH"
      },
      "outputs": [],
      "source": [
        "class MyLogisticRegBinary(BaseEstimator, ClassifierMixin):\n",
        "    def __init__(self):\n",
        "        self.params = {}\n",
        "        self.verbose = 0\n",
        "    def init_params(self, X):\n",
        "        \"\"\"Randomly initializing parameters for logistic regression.\n",
        "\n",
        "        In this function, we initialize the slope coefficients and\n",
        "        the intercept randomly using a normal distribution.\n",
        "\n",
        "        \"\"\"\n",
        "        np.random.seed(42)\n",
        "        n_features = X.shape[1]\n",
        "\n",
        "        self.params['coef'] = np.random.randn(n_features, 1)\n",
        "\n",
        "        self.params['intercept'] = np.random.randn(1, 1)\n",
        "\n",
        "        if self.verbose:\n",
        "            print(\"[INFO] Initialized parameters.\")\n",
        "            print(f\"Shape of coefficient matrix: {self.params['coef'].shape}\")\n",
        "            print(f\"Shape of intercept matrix: {self.params['intercept'].shape}\")\n",
        "\n",
        "    def get_logits(self, X, y=None):\n",
        "        \"\"\"Calculate logits for logistic regression.\n",
        "        \"\"\"\n",
        "        if 'coef' not in self.params:\n",
        "            self.init_params(X)\n",
        "\n",
        "        return X @ self.params['coef'] + self.params['intercept']\n",
        "\n",
        "    def predict_proba(self, X, y=None):\n",
        "        \"\"\"\n",
        "        Compute probabilities for binary classification using the sigmoid function.\n",
        "        The sigmoid function is defined as: 1 / (1 + exp(-logits)).\n",
        "        \"\"\"\n",
        "        logits = self.get_logits(X)\n",
        "\n",
        "        return 1 / (1 + np.exp(-logits))\n",
        "\n",
        "    def fit(self, X, y, learning_rate=0.05, iterations=1000, verbose=0):\n",
        "        \"\"\"Train the logistic regression model using Stochastic Gradient Descent (SGD). \"\"\"\n",
        "        self.verbose = verbose\n",
        "\n",
        "        if isinstance(X, pd.DataFrame):\n",
        "            X = X.values\n",
        "\n",
        "        self.init_params(X)\n",
        "        m = X.shape[0]\n",
        "\n",
        "        if verbose:\n",
        "            print(\"[INFO] Training with Stochastic Gradient Descent ...\")\n",
        "\n",
        "        for i in range(1, iterations + 1):\n",
        "            total_loss = 0\n",
        "\n",
        "            indices = np.arange(m)\n",
        "            np.random.shuffle(indices)\n",
        "\n",
        "            for idx in indices:\n",
        "                X_sample = X[idx].reshape(1, -1)\n",
        "                y_sample = np.array([y[idx]])\n",
        "\n",
        "                # Compute the probability (prediction) using the predict_proba function\n",
        "                y_proba = self.predict_proba(X_sample)\n",
        "\n",
        "                loss = - (y_sample * np.log(y_proba) + (1 - y_sample) * np.log(1 - y_proba))\n",
        "                total_loss += loss\n",
        "\n",
        "                # Compute the gradients (dW and db)\n",
        "                dW = X_sample.T @ (y_proba - y_sample)\n",
        "                db = (y_proba - y_sample)\n",
        "\n",
        "\n",
        "                self.params['coef'] -= learning_rate * dW\n",
        "                self.params['intercept'] -= learning_rate * db\n",
        "\n",
        "            avg_loss = total_loss / m\n",
        "\n",
        "            if verbose and (i == 1 or i % 10 == 0):\n",
        "                print(f\"\\nIteration {i}/{iterations}\", end=\" \")\n",
        "                print(f\"Loss: {avg_loss}\")\n",
        "\n",
        "    def predict(self, X, threshold=0.5):\n",
        "        \"\"\"Make predictions using the logistic regression model.\n",
        "        \"\"\"\n",
        "        y_proba = self.predict_proba(X)\n",
        "        \n",
        "        y_pred = (y_proba >= threshold).astype(int)\n",
        "\n",
        "        return y_pred\n"
      ]
    },
    {
      "cell_type": "code",
      "execution_count": 102,
      "metadata": {
        "id": "qc6sHlOBWGdY"
      },
      "outputs": [
        {
          "name": "stdout",
          "output_type": "stream",
          "text": [
            "[INFO] Initialized parameters.\n",
            "Shape of coefficient matrix: (13, 1)\n",
            "Shape of intercept matrix: (1, 1)\n",
            "[INFO] Training with Stochastic Gradient Descent ...\n",
            "\n",
            "Iteration 1/50 Loss: [[0.75203557]]\n",
            "\n",
            "Iteration 10/50 Loss: [[0.34894015]]\n",
            "\n",
            "Iteration 20/50 Loss: [[0.34900326]]\n",
            "\n",
            "Iteration 30/50 Loss: [[0.3485192]]\n",
            "\n",
            "Iteration 40/50 Loss: [[0.3489008]]\n",
            "\n",
            "Iteration 50/50 Loss: [[0.34844382]]\n"
          ]
        }
      ],
      "source": [
        "my_log_reg = MyLogisticRegBinary()\n",
        "my_log_reg.fit(X_train, y_train, learning_rate=0.01, iterations=50, verbose=1)"
      ]
    },
    {
      "cell_type": "code",
      "execution_count": 103,
      "metadata": {
        "id": "hRFFCH3FWL3Q"
      },
      "outputs": [
        {
          "name": "stdout",
          "output_type": "stream",
          "text": [
            "My implementation:\n",
            "0.7902439024390244\n"
          ]
        }
      ],
      "source": [
        "y_pred = my_log_reg.predict(X_test)\n",
        "print(\"My implementation:\")\n",
        "print(accuracy_score(y_test, y_pred))"
      ]
    },
    {
      "cell_type": "markdown",
      "metadata": {
        "id": "OJOyHju9WuYW"
      },
      "source": [
        "### Plotting the Confusion Matrix\n",
        "\n",
        "In this step, we compute and visualize the confusion matrix using a heatmap by seaborn"
      ]
    },
    {
      "cell_type": "code",
      "execution_count": 104,
      "metadata": {
        "id": "n9W_0MIXWsh1"
      },
      "outputs": [
        {
          "data": {
            "image/png": "[encoded data removed]",
            "text/plain": [
              "<Figure size 640x480 with 2 Axes>"
            ]
          },
          "metadata": {},
          "output_type": "display_data"
        }
      ],
      "source": [
        "cm = confusion_matrix(y_test, y_pred)\n",
        "sns.heatmap(cm, annot=True, fmt='d', cmap='Blues')\n",
        "plt.title('Confusion Matrix (Custom Implementation)')\n",
        "plt.xlabel('Predicted')\n",
        "plt.ylabel('Actual')\n",
        "plt.show()"
      ]
    },
    {
      "cell_type": "markdown",
      "metadata": {
        "id": "C9Op7zhRZKW8"
      },
      "source": [
        "### Using Scikit-Learn's Built-in SGDClassifier\n",
        "\n",
        "In this section, we will use Scikit-learn's `SGDClassifier` to implement logistic regression with Stochastic Gradient Descent (SGD). This is a built-in implementation, which abstracts away the low-level details like parameter initialization and gradient updates."
      ]
    },
    {
      "cell_type": "code",
      "execution_count": 105,
      "metadata": {
        "id": "mYHmctynZK4M"
      },
      "outputs": [
        {
          "name": "stdout",
          "output_type": "stream",
          "text": [
            "Epoch 1 - Loss: 0.355359\n",
            "Epoch 10 - Loss: 0.343744\n",
            "Epoch 20 - Loss: 0.343734\n",
            "Epoch 30 - Loss: 0.343734\n",
            "Epoch 40 - Loss: 0.343734\n",
            "Epoch 50 - Loss: 0.343734\n"
          ]
        }
      ],
      "source": [
        "sgd_classifier = SGDClassifier(\n",
        "    loss='log_loss',\n",
        "    learning_rate='constant',\n",
        "    eta0=0.01,\n",
        "    penalty=None,\n",
        "    random_state=42\n",
        ")\n",
        "\n",
        "epochs = 50\n",
        "\n",
        "for i in range(1, epochs + 1):\n",
        "    # Update the model incrementally using the training data and true labels, adjusting the model parameters\n",
        "    # based on the gradient of the loss function for one batch of data.\n",
        "    sgd_classifier.partial_fit(X_train, y_train.ravel(), classes=np.unique(y))\n",
        "\n",
        "    # Compute logistic_regression_loss\n",
        "    y_proba = sgd_classifier.predict_proba(X_train)[:, 1].reshape(-1, 1)\n",
        "    avg_loss = log_loss(y_train, y_proba)\n",
        "\n",
        "    if i == 1 or i % 10 == 0:\n",
        "        print(f\"Epoch {i} - Loss: {avg_loss:.6f}\")"
      ]
    },
    {
      "cell_type": "code",
      "execution_count": 106,
      "metadata": {
        "id": "G6UtoSFoapsi"
      },
      "outputs": [
        {
          "name": "stdout",
          "output_type": "stream",
          "text": [
            "Scikit-learn implementation:\n",
            "0.7951219512195122\n"
          ]
        }
      ],
      "source": [
        "sk_y_pred = sgd_classifier.predict(X_test)\n",
        "print(\"Scikit-learn implementation:\")\n",
        "print(accuracy_score(y_test, sk_y_pred))"
      ]
    },
    {
      "cell_type": "markdown",
      "metadata": {
        "id": "y-pOOhYZauKD"
      },
      "source": [
        "### Confusion Matrix in Scikit-learn implementation"
      ]
    },
    {
      "cell_type": "code",
      "execution_count": 107,
      "metadata": {
        "id": "bFzm3oeIaqrL"
      },
      "outputs": [
        {
          "data": {
            "image/png": "[encoded data removed]",
            "text/plain": [
              "<Figure size 640x480 with 2 Axes>"
            ]
          },
          "metadata": {},
          "output_type": "display_data"
        }
      ],
      "source": [
        "cm = confusion_matrix(y_test, sk_y_pred)\n",
        "sns.heatmap(cm, annot=True, fmt='d', cmap='Blues')\n",
        "plt.title('Confusion Matrix (Scikit-learn Implementation)')\n",
        "plt.xlabel('Predicted')\n",
        "plt.ylabel('Actual')\n",
        "plt.show()"
      ]
    }
  ],
  "metadata": {
    "colab": {
      "provenance": []
    },
    "kernelspec": {
      "display_name": "Python 3",
      "name": "python3"
    },
    "language_info": {
      "codemirror_mode": {
        "name": "ipython",
        "version": 3
      },
      "file_extension": ".py",
      "mimetype": "text/x-python",
      "name": "python",
      "nbconvert_exporter": "python",
      "pygments_lexer": "ipython3",
      "version": "3.11.11"
    }
  },
  "nbformat": 4,
  "nbformat_minor": 0
}
