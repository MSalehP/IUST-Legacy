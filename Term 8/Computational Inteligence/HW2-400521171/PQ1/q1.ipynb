{
 "cells": [
  {
   "cell_type": "markdown",
   "id": "9eacdaa2",
   "metadata": {},
   "source": [
    "# Understanding the Dataset #"
   ]
  },
  {
   "cell_type": "code",
   "execution_count": 33,
   "id": "8bdc0949",
   "metadata": {},
   "outputs": [
    {
     "name": "stdout",
     "output_type": "stream",
     "text": [
      "Features available: sepal length (cm), sepal width (cm), petal length (cm), petal width (cm)\n",
      "Classes to predict: ['setosa' 'versicolor' 'virginica']\n",
      "Feature matrix dimensions: (150, 4)\n",
      "Label vector length: (150,)\n"
     ]
    }
   ],
   "source": [
    "from sklearn.datasets import load_iris\n",
    "import numpy as np\n",
    "\n",
    "iris_data = load_iris()\n",
    "features = iris_data.data\n",
    "labels = iris_data.target\n",
    "\n",
    "feature_labels = iris_data.feature_names\n",
    "class_names = iris_data.target_names\n",
    "\n",
    "print(\"Features available:\", \", \".join(feature_labels))\n",
    "print(\"Classes to predict:\", class_names)\n",
    "print(\"Feature matrix dimensions:\", features.shape)\n",
    "print(\"Label vector length:\", labels.shape)"
   ]
  },
  {
   "cell_type": "markdown",
   "id": "d9517dcf",
   "metadata": {},
   "source": [
    "# Building the Decision Tree #"
   ]
  },
  {
   "cell_type": "markdown",
   "id": "638df1e1",
   "metadata": {},
   "source": [
    "* Node Structure "
   ]
  },
  {
   "cell_type": "code",
   "execution_count": 34,
   "id": "1cb2ea35",
   "metadata": {},
   "outputs": [],
   "source": [
    "class TreeNode:\n",
    "    def __init__(\n",
    "        self,\n",
    "        split_feature=None,\n",
    "        split_threshold=None,\n",
    "        left_child=None,\n",
    "        right_child=None,\n",
    "        predicted_value=None,\n",
    "    ):\n",
    "        self.split_feature = split_feature\n",
    "        self.split_threshold = split_threshold\n",
    "        self.left_child = left_child\n",
    "        self.right_child = right_child\n",
    "        self.predicted_value = predicted_value"
   ]
  },
  {
   "cell_type": "markdown",
   "id": "99033713",
   "metadata": {},
   "source": [
    "* Splitting Criteria (Gini Impurity)"
   ]
  },
  {
   "cell_type": "code",
   "execution_count": 35,
   "id": "831b5caf",
   "metadata": {},
   "outputs": [],
   "source": [
    "def compute_gini_impurity(labels):\n",
    "    unique_classes = np.unique(labels)\n",
    "    impurity = 1.0  # Start with maximum impurity\n",
    "\n",
    "    for current_class in unique_classes:\n",
    "        class_prob = np.mean(labels == current_class)\n",
    "        impurity -= class_prob**2\n",
    "\n",
    "    return impurity\n",
    "\n",
    "\n",
    "def find_optimal_split(features, labels):\n",
    "    n_samples, n_features = features.shape\n",
    "\n",
    "    # Edge case: can't split if there's only one sample\n",
    "    if n_samples <= 1:\n",
    "        return None, None\n",
    "\n",
    "    current_impurity = compute_gini_impurity(labels)\n",
    "    best_feature_idx, best_split_value = None, None\n",
    "\n",
    "    for feature_idx in range(n_features):\n",
    "        possible_thresholds = np.unique(features[:, feature_idx])\n",
    "\n",
    "        for threshold in possible_thresholds:\n",
    "            # Split data into left/right nodes\n",
    "            left_mask = features[:, feature_idx] <= threshold\n",
    "            right_mask = features[:, feature_idx] > threshold\n",
    "\n",
    "            # all samples go to one side\n",
    "            if np.sum(left_mask) == 0 or np.sum(right_mask) == 0:\n",
    "                continue\n",
    "\n",
    "            left_impurity = compute_gini_impurity(labels[left_mask])\n",
    "            right_impurity = compute_gini_impurity(labels[right_mask])\n",
    "\n",
    "            # weighted average impurity\n",
    "            left_weight = np.sum(left_mask) / n_samples\n",
    "            combined_impurity = (\n",
    "                left_weight * left_impurity + (1 - left_weight) * right_impurity\n",
    "            )\n",
    "\n",
    "            # Update best split if we found a better one\n",
    "            if combined_impurity < current_impurity:\n",
    "                current_impurity = combined_impurity\n",
    "                best_feature_idx = feature_idx\n",
    "                best_split_value = threshold\n",
    "\n",
    "    return best_feature_idx, best_split_value"
   ]
  },
  {
   "cell_type": "markdown",
   "id": "8bf63817",
   "metadata": {},
   "source": [
    "* Recursive Splitting"
   ]
  },
  {
   "cell_type": "code",
   "execution_count": 36,
   "id": "153ab276",
   "metadata": {},
   "outputs": [],
   "source": [
    "class DecisionTree:\n",
    "    def __init__(self, max_depth=5, min_samples_per_node=2):\n",
    "        self.max_depth = max_depth\n",
    "        self.min_samples = min_samples_per_node\n",
    "        self.root_node = None\n",
    "\n",
    "    def _grow_tree(self, data, labels, current_depth=0):\n",
    "        n_samples, n_features = data.shape\n",
    "        unique_classes = np.unique(labels)\n",
    "\n",
    "        # Check if we should stop and make a leaf\n",
    "        if (\n",
    "            current_depth >= self.max_depth\n",
    "            or n_samples < self.min_samples\n",
    "            or len(unique_classes) == 1\n",
    "        ):\n",
    "            return TreeNode(predicted_value=self._get_plurality_class(labels))\n",
    "\n",
    "        best_feat, best_thresh = find_optimal_split(data, labels)\n",
    "\n",
    "        # If we can't find a good split, make a leaf\n",
    "        if best_feat is None:\n",
    "            return TreeNode(predicted_value=self._get_plurality_class(labels))\n",
    "\n",
    "        # Split data and grow branches\n",
    "        goes_left = data[:, best_feat] <= best_thresh\n",
    "        left_branch = self._grow_tree(\n",
    "            data[goes_left], labels[goes_left], current_depth + 1\n",
    "        )\n",
    "        right_branch = self._grow_tree(\n",
    "            data[~goes_left], labels[~goes_left], current_depth + 1\n",
    "        )\n",
    "\n",
    "        return TreeNode(\n",
    "            split_feature=best_feat,\n",
    "            split_threshold=best_thresh,\n",
    "            left_child=left_branch,\n",
    "            right_child=right_branch,\n",
    "        )\n",
    "\n",
    "    def _get_plurality_class(self, labels):\n",
    "        \"\"\"Returns the most frequent class in labels (handles ties).\"\"\"\n",
    "        classes, counts = np.unique(labels, return_counts=True)\n",
    "        return classes[np.argmax(counts)]\n",
    "\n",
    "    def fit(self, X, y):\n",
    "        self.root_node = self._grow_tree(X, y)\n",
    "\n",
    "    def predict(self, X):\n",
    "        return np.array([self._walk_tree(sample, self.root_node) for sample in X])\n",
    "\n",
    "    def _walk_tree(self, sample, node):\n",
    "        if node.predicted_value is not None:\n",
    "            return node.predicted_value\n",
    "\n",
    "        if sample[node.split_feature] <= node.split_threshold:\n",
    "            return self._walk_tree(sample, node.left_child)\n",
    "        return self._walk_tree(sample, node.right_child)"
   ]
  },
  {
   "cell_type": "markdown",
   "id": "045c3b36",
   "metadata": {},
   "source": [
    "# Training and Evaluation #"
   ]
  },
  {
   "cell_type": "code",
   "execution_count": 37,
   "id": "d14c3d0e",
   "metadata": {},
   "outputs": [
    {
     "name": "stdout",
     "output_type": "stream",
     "text": [
      "\n",
      "Model Performance:\n",
      "Overall Accuracy: 0.967\n",
      "Avg Precision: 0.970\n",
      "Avg Recall: 0.967\n",
      "F1 Score: 0.967\n",
      "\n",
      "Detailed Report:\n",
      "              precision    recall  f1-score   support\n",
      "\n",
      "      setosa       1.00      1.00      1.00        10\n",
      "  versicolor       1.00      0.90      0.95        10\n",
      "   virginica       0.91      1.00      0.95        10\n",
      "\n",
      "    accuracy                           0.97        30\n",
      "   macro avg       0.97      0.97      0.97        30\n",
      "weighted avg       0.97      0.97      0.97        30\n",
      "\n"
     ]
    }
   ],
   "source": [
    "from sklearn.model_selection import train_test_split\n",
    "from sklearn.metrics import (\n",
    "    accuracy_score,\n",
    "    precision_score,\n",
    "    recall_score,\n",
    "    f1_score,\n",
    "    classification_report,\n",
    ")\n",
    "\n",
    "X_train, X_test, y_train, y_test = train_test_split(\n",
    "    features,\n",
    "    labels,\n",
    "    test_size=0.2,\n",
    "    random_state=42,\n",
    "    stratify=labels,  # to maintain class distribution\n",
    ")\n",
    "\n",
    "iris_tree = DecisionTree(max_depth=3)\n",
    "iris_tree.fit(X_train, y_train)\n",
    "\n",
    "test_predictions = iris_tree.predict(X_test)\n",
    "\n",
    "print(\"\\nModel Performance:\")\n",
    "print(f\"Overall Accuracy: {accuracy_score(y_test, test_predictions):.3f}\")\n",
    "print(\n",
    "    f\"Avg Precision: {precision_score(y_test, test_predictions, average='macro'):.3f}\"\n",
    ")\n",
    "print(f\"Avg Recall: {recall_score(y_test, test_predictions, average='macro'):.3f}\")\n",
    "print(f\"F1 Score: {f1_score(y_test, test_predictions, average='macro'):.3f}\")\n",
    "\n",
    "print(\"\\nDetailed Report:\")\n",
    "print(\n",
    "    classification_report(y_test, test_predictions, target_names=iris_data.target_names)\n",
    ")"
   ]
  }
 ],
 "metadata": {
  "kernelspec": {
   "display_name": "Python 3",
   "language": "python",
   "name": "python3"
  },
  "language_info": {
   "codemirror_mode": {
    "name": "ipython",
    "version": 3
   },
   "file_extension": ".py",
   "mimetype": "text/x-python",
   "name": "python",
   "nbconvert_exporter": "python",
   "pygments_lexer": "ipython3",
   "version": "3.11.11"
  }
 },
 "nbformat": 4,
 "nbformat_minor": 5
}
