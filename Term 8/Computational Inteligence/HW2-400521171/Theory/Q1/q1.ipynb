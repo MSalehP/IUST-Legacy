{
 "cells": [
  {
   "cell_type": "markdown",
   "id": "cd7f60f0",
   "metadata": {},
   "source": [
    "# سوال یک #"
   ]
  },
  {
   "cell_type": "code",
   "execution_count": 2,
   "id": "b1058dea",
   "metadata": {},
   "outputs": [
    {
     "name": "stdout",
     "output_type": "stream",
     "text": [
      "Kernel: linear, C: 0.01, Accuracy: 0.8067\n",
      "Kernel: linear, C: 1, Accuracy: 0.8667\n",
      "Kernel: linear, C: 100, Accuracy: 0.8733\n",
      "Kernel: poly, C: 0.01, Accuracy: 0.7533\n",
      "Kernel: poly, C: 1, Accuracy: 0.8800\n",
      "Kernel: poly, C: 100, Accuracy: 0.8733\n",
      "Kernel: rbf, C: 0.01, Accuracy: 0.8400\n",
      "Kernel: rbf, C: 1, Accuracy: 0.9333\n",
      "Kernel: rbf, C: 100, Accuracy: 0.9667\n"
     ]
    }
   ],
   "source": [
    "import numpy as np\n",
    "import matplotlib.pyplot as plt\n",
    "from sklearn.datasets import make_moons\n",
    "from sklearn.svm import SVC\n",
    "from sklearn.model_selection import train_test_split\n",
    "from sklearn.metrics import accuracy_score\n",
    "\n",
    "X, y = make_moons(n_samples=500, noise=0.2, random_state=400521171)\n",
    "X_train, X_test, y_train, y_test = train_test_split(X, y, test_size=0.3, random_state=400521171)\n",
    "\n",
    "kernels = ['linear', 'poly', 'rbf']\n",
    "C_values = [0.01, 1, 100]\n",
    "\n",
    "results = {}\n",
    "\n",
    "for kernel in kernels:\n",
    "    for C in C_values:\n",
    "        model = SVC(kernel=kernel, C=C, gamma='scale')\n",
    "        model.fit(X_train, y_train)\n",
    "        y_pred = model.predict(X_test)\n",
    "        accuracy = accuracy_score(y_test, y_pred)\n",
    "        results[(kernel, C)] = accuracy\n",
    "\n",
    "for (kernel, C), accuracy in results.items():\n",
    "    print(f\"Kernel: {kernel}, C: {C}, Accuracy: {accuracy:.4f}\")"
   ]
  }
 ],
 "metadata": {
  "kernelspec": {
   "display_name": "Python 3",
   "language": "python",
   "name": "python3"
  },
  "language_info": {
   "codemirror_mode": {
    "name": "ipython",
    "version": 3
   },
   "file_extension": ".py",
   "mimetype": "text/x-python",
   "name": "python",
   "nbconvert_exporter": "python",
   "pygments_lexer": "ipython3",
   "version": "3.11.11"
  }
 },
 "nbformat": 4,
 "nbformat_minor": 5
}
